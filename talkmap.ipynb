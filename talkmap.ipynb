{
 "cells": [
  {
   "cell_type": "markdown",
   "metadata": {},
   "source": [
    "# Leaflet cluster map of talk locations\n",
    "\n",
    "Run this from the _talks/ directory, which contains .md files of all your talks. This scrapes the location YAML field from each .md file, geolocates it with geopy/Nominatim, and uses the getorg library to output data, HTML, and Javascript for a standalone cluster map."
   ]
  },
  {
   "cell_type": "code",
   "execution_count": 1,
   "metadata": {
    "collapsed": false,
    "jupyter": {
     "outputs_hidden": false
    }
   },
   "outputs": [
    {
     "name": "stdout",
     "output_type": "stream",
     "text": [
      "Requirement already satisfied: getorg in ./_talks/my-project-env/lib/python3.12/site-packages (0.3.1)\n",
      "Requirement already satisfied: geopy in ./_talks/my-project-env/lib/python3.12/site-packages (from getorg) (2.4.1)\n",
      "Requirement already satisfied: pygithub in ./_talks/my-project-env/lib/python3.12/site-packages (from getorg) (2.6.1)\n",
      "Requirement already satisfied: retrying in ./_talks/my-project-env/lib/python3.12/site-packages (from getorg) (1.3.4)\n",
      "Requirement already satisfied: geographiclib<3,>=1.52 in ./_talks/my-project-env/lib/python3.12/site-packages (from geopy->getorg) (2.0)\n",
      "Requirement already satisfied: pynacl>=1.4.0 in ./_talks/my-project-env/lib/python3.12/site-packages (from pygithub->getorg) (1.5.0)\n",
      "Requirement already satisfied: requests>=2.14.0 in ./_talks/my-project-env/lib/python3.12/site-packages (from pygithub->getorg) (2.32.3)\n",
      "Requirement already satisfied: pyjwt>=2.4.0 in ./_talks/my-project-env/lib/python3.12/site-packages (from pyjwt[crypto]>=2.4.0->pygithub->getorg) (2.10.1)\n",
      "Requirement already satisfied: typing-extensions>=4.0.0 in ./_talks/my-project-env/lib/python3.12/site-packages (from pygithub->getorg) (4.13.2)\n",
      "Requirement already satisfied: urllib3>=1.26.0 in ./_talks/my-project-env/lib/python3.12/site-packages (from pygithub->getorg) (2.4.0)\n",
      "Requirement already satisfied: Deprecated in ./_talks/my-project-env/lib/python3.12/site-packages (from pygithub->getorg) (1.2.18)\n",
      "Requirement already satisfied: six>=1.7.0 in ./_talks/my-project-env/lib/python3.12/site-packages (from retrying->getorg) (1.17.0)\n",
      "Requirement already satisfied: cryptography>=3.4.0 in ./_talks/my-project-env/lib/python3.12/site-packages (from pyjwt[crypto]>=2.4.0->pygithub->getorg) (44.0.2)\n",
      "Requirement already satisfied: cffi>=1.4.1 in ./_talks/my-project-env/lib/python3.12/site-packages (from pynacl>=1.4.0->pygithub->getorg) (1.17.1)\n",
      "Requirement already satisfied: charset-normalizer<4,>=2 in ./_talks/my-project-env/lib/python3.12/site-packages (from requests>=2.14.0->pygithub->getorg) (3.4.1)\n",
      "Requirement already satisfied: idna<4,>=2.5 in ./_talks/my-project-env/lib/python3.12/site-packages (from requests>=2.14.0->pygithub->getorg) (3.10)\n",
      "Requirement already satisfied: certifi>=2017.4.17 in ./_talks/my-project-env/lib/python3.12/site-packages (from requests>=2.14.0->pygithub->getorg) (2025.1.31)\n",
      "Requirement already satisfied: wrapt<2,>=1.10 in ./_talks/my-project-env/lib/python3.12/site-packages (from Deprecated->pygithub->getorg) (1.17.2)\n",
      "Requirement already satisfied: pycparser in ./_talks/my-project-env/lib/python3.12/site-packages (from cffi>=1.4.1->pynacl>=1.4.0->pygithub->getorg) (2.22)\n",
      "IPywidgets and ipyleaflet support enabled.\n"
     ]
    }
   ],
   "source": [
    "!pip install getorg --upgrade\n",
    "import glob\n",
    "import getorg\n",
    "from geopy import Nominatim"
   ]
  },
  {
   "cell_type": "code",
   "execution_count": 2,
   "metadata": {
    "collapsed": false,
    "jupyter": {
     "outputs_hidden": false
    }
   },
   "outputs": [],
   "source": [
    "g = glob.glob(\"_talks/*.md\")"
   ]
  },
  {
   "cell_type": "code",
   "execution_count": 3,
   "metadata": {},
   "outputs": [],
   "source": [
    "geocoder = Nominatim(user_agent=\"maptalk\")\n",
    "location_dict = {}\n",
    "location = \"\"\n",
    "permalink = \"\"\n",
    "title = \"\""
   ]
  },
  {
   "cell_type": "code",
   "execution_count": 4,
   "metadata": {
    "collapsed": false,
    "jupyter": {
     "outputs_hidden": false
    }
   },
   "outputs": [
    {
     "name": "stdout",
     "output_type": "stream",
     "text": [
      "Lansing, Michigan \n",
      " Lansing, Ingham County, Michigan, United States\n",
      "Longmont, Colorado \n",
      " Longmont, Boulder County, Colorado, United States\n",
      "Braga, Portugal \n",
      " Braga, Portugal\n",
      "Los Angeles, California \n",
      " Los Angeles, Los Angeles County, California, United States\n",
      "Glasgow, Scotland \n",
      " Glasgow, Glasgow City, Alba / Scotland, G2 1AR, United Kingdom\n",
      "Milan, Italy \n",
      " Milano, Lombardia, Italia\n",
      "Edinburgh, Scotland \n",
      " City of Edinburgh, Alba / Scotland, United Kingdom\n",
      "The Hauge, The Netherlands \n",
      " None\n",
      "Pacific Grove, California \n",
      " Pacific Grove, Monterey County, California, 93950, United States\n"
     ]
    }
   ],
   "source": [
    "from time import sleep\n",
    "for file in g:\n",
    "    with open(file, 'r') as f:\n",
    "        lines = f.read()\n",
    "        if lines.find('location: \"') > 1:\n",
    "            loc_start = lines.find('location: \"') + 11\n",
    "            lines_trim = lines[loc_start:]\n",
    "            loc_end = lines_trim.find('\"')\n",
    "            location = lines_trim[:loc_end]\n",
    "                            \n",
    "        sleep(1)\n",
    "        location_dict[location] = geocoder.geocode(location)\n",
    "        print(location, \"\\n\", location_dict[location])\n"
   ]
  },
  {
   "cell_type": "code",
   "execution_count": 7,
   "metadata": {},
   "outputs": [
    {
     "name": "stdout",
     "output_type": "stream",
     "text": [
      "Glasgow, Scotland \n",
      " Glasgow, Glasgow City, Alba / Scotland, G2 1AR, United Kingdom\n",
      "Edinburgh, Scotland \n",
      " City of Edinburgh, Alba / Scotland, United Kingdom\n",
      "Gothenburg, Sweden \n",
      " Göteborg, Göteborgs Stad, Västra Götalands län, 411 10, Sverige\n",
      "Den Haag, Nederland \n",
      " Den Haag, Zuid-Holland, Nederland\n"
     ]
    }
   ],
   "source": [
    "for location in ['Glasgow, Scotland', 'Edinburgh, Scotland', 'Gothenburg, Sweden', 'Den Haag, Nederland']:\n",
    "    location_dict[location] = geocoder.geocode(location)\n",
    "    print(location, \"\\n\", location_dict[location])"
   ]
  },
  {
   "cell_type": "code",
   "execution_count": 8,
   "metadata": {
    "collapsed": false,
    "jupyter": {
     "outputs_hidden": false
    }
   },
   "outputs": [
    {
     "data": {
      "text/plain": [
       "'Written map to talkmap/'"
      ]
     },
     "execution_count": 8,
     "metadata": {},
     "output_type": "execute_result"
    }
   ],
   "source": [
    "m = getorg.orgmap.create_map_obj()\n",
    "getorg.orgmap.output_html_cluster_map(location_dict, folder_name=\"talkmap\", hashed_usernames=False)"
   ]
  },
  {
   "cell_type": "code",
   "execution_count": null,
   "metadata": {
    "collapsed": true,
    "jupyter": {
     "outputs_hidden": true
    }
   },
   "outputs": [],
   "source": []
  }
 ],
 "metadata": {
  "anaconda-cloud": {},
  "kernelspec": {
   "display_name": "Python 3 (ipykernel)",
   "language": "python",
   "name": "python3"
  },
  "language_info": {
   "codemirror_mode": {
    "name": "ipython",
    "version": 3
   },
   "file_extension": ".py",
   "mimetype": "text/x-python",
   "name": "python",
   "nbconvert_exporter": "python",
   "pygments_lexer": "ipython3",
   "version": "3.12.3"
  }
 },
 "nbformat": 4,
 "nbformat_minor": 4
}
